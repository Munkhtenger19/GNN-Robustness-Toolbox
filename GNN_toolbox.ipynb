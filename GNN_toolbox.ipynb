{
 "cells": [
  {
   "cell_type": "code",
   "execution_count": 5,
   "id": "0cda7fa4",
   "metadata": {},
   "outputs": [],
   "source": [
    "import os\n",
    "\n",
    "import torch\n",
    "import torch.nn.functional as F\n",
    "from torch.optim import Adam\n",
    "\n",
    "from torch_geometric.nn import GCN, GAT, MLP\n",
    "from torch_geometric.contrib.nn import GRBCDAttack, PRBCDAttack\n",
    "from torch_geometric.datasets import Planetoid\n",
    "import torch_geometric.transforms as T\n",
    "\n",
    "data_dir = \"./data\"\n",
    "os.makedirs(data_dir, exist_ok=True)"
   ]
  },
  {
   "cell_type": "code",
   "execution_count": 8,
   "id": "97512e73-3f97-4f0c-81ae-568711b301c5",
   "metadata": {},
   "outputs": [],
   "source": [
    "class GNNRobustness():\n",
    "    def __init__(self):\n",
    "        self.available_gnn_architectures = {\n",
    "            \"GCN\": GCN,\n",
    "            \"GAT\": GATConv,\n",
    "            \"MLP\": MLP,\n",
    "        }\n",
    "        self.available_attack_strategies = {\n",
    "            \"GRBCDAttack\": GRBCDAttack, \n",
    "            \"PRBCDAttack\": PRBCDAttack, \n",
    "        }\n",
    "        \n",
    "    def available_gnn_architectures(self):\n",
    "        print(\"Available GNN Architectures:\")\n",
    "        for name, architecture in self.available_gnn_architectures.items():\n",
    "            print(f\"{name}: {architecture.__doc__}\")\n",
    "        gnn_architecture_name = input(\"Enter the name of the GNN architecture you want to use: \")\n",
    "        in_channels = input(\"Enter in_channels\")\n",
    "        out_channels = input(\"Enter out_channels\")\n",
    "        self.model = self.available_gnn_architectures[gnn_architecture_name](in_channels, out_channels)\n",
    "        return self.model\n",
    "\n",
    "    def available_attack_strategies(self):\n",
    "        print(\"Available Attack Strategies:\")\n",
    "        for name, strategy in self.available_attack_strategies.items():\n",
    "            print(f\"{name}: {strategy.__doc__}\")\n",
    "        attack_strategy_name = input(\"Enter the name of the attack strategy you want to use: \")\n",
    "        self.attack_strategy = self.available_attack_strategies[attack_strategy_name]\n",
    "        return self.attack_strategy\n",
    "    \n",
    "    def train_gnn(self, model, dataset, epochs, optimizer):\n",
    "        optimizer = torch.optim.Adam(model.parameters(), lr=0.01)\n",
    "        for epoch in range(epochs):\n",
    "            model.train()\n",
    "            optimizer.zero_grad()\n",
    "            output = model(dataset.x, dataset.edge_index)\n",
    "            loss = F.nll_loss(output, dataset.y)\n",
    "            loss.backward()\n",
    "            optimizer.step()\n",
    "\n",
    "    "
   ]
  },
  {
   "cell_type": "code",
   "execution_count": 10,
   "id": "cf45f696-feb3-4e7f-81dc-748e2803968e",
   "metadata": {},
   "outputs": [
    {
     "ename": "TypeError",
     "evalue": "'dict' object is not callable",
     "output_type": "error",
     "traceback": [
      "\u001b[1;31m---------------------------------------------------------------------------\u001b[0m",
      "\u001b[1;31mTypeError\u001b[0m                                 Traceback (most recent call last)",
      "Cell \u001b[1;32mIn[10], line 5\u001b[0m\n\u001b[0;32m      2\u001b[0m toolbox \u001b[38;5;241m=\u001b[39m GNNRobustness()\n\u001b[0;32m      4\u001b[0m \u001b[38;5;66;03m# Choose or define GNN architecture\u001b[39;00m\n\u001b[1;32m----> 5\u001b[0m gnn_architecture \u001b[38;5;241m=\u001b[39m toolbox\u001b[38;5;241m.\u001b[39mavailable_gnn_architectures()\n",
      "\u001b[1;31mTypeError\u001b[0m: 'dict' object is not callable"
     ]
    }
   ],
   "source": [
    "if __name__ == \"__main__\":\n",
    "    toolbox = GNNRobustness()\n",
    "\n",
    "    # Choose or define GNN architecture\n",
    "    gnn_architecture = toolbox.available_gnn_architectures()"
   ]
  },
  {
   "cell_type": "markdown",
   "id": "dc614bf9",
   "metadata": {},
   "source": []
  }
 ],
 "metadata": {
  "kernelspec": {
   "display_name": "Python 3 (ipykernel)",
   "language": "python",
   "name": "python3"
  },
  "language_info": {
   "codemirror_mode": {
    "name": "ipython",
    "version": 3
   },
   "file_extension": ".py",
   "mimetype": "text/x-python",
   "name": "python",
   "nbconvert_exporter": "python",
   "pygments_lexer": "ipython3",
   "version": "3.11.5"
  }
 },
 "nbformat": 4,
 "nbformat_minor": 5
}
